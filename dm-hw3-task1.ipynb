{
 "cells": [
  {
   "cell_type": "code",
   "execution_count": 1,
   "id": "44e37c79",
   "metadata": {
    "_cell_guid": "b1076dfc-b9ad-4769-8c92-a6c4dae69d19",
    "_uuid": "8f2839f25d086af736a60e9eeb907d3b93b6e0e5",
    "execution": {
     "iopub.execute_input": "2023-11-20T00:37:36.883513Z",
     "iopub.status.busy": "2023-11-20T00:37:36.882793Z",
     "iopub.status.idle": "2023-11-20T00:37:37.344625Z",
     "shell.execute_reply": "2023-11-20T00:37:37.343320Z"
    },
    "papermill": {
     "duration": 0.472565,
     "end_time": "2023-11-20T00:37:37.347293",
     "exception": false,
     "start_time": "2023-11-20T00:37:36.874728",
     "status": "completed"
    },
    "tags": []
   },
   "outputs": [
    {
     "name": "stdout",
     "output_type": "stream",
     "text": [
      "/kaggle/input/kmeans/data_description.txt\n",
      "/kaggle/input/kmeans/label.csv\n",
      "/kaggle/input/kmeans/data.csv\n"
     ]
    }
   ],
   "source": [
    "import numpy as np # linear algebra\n",
    "import pandas as pd # data processing, CSV file I/O (e.g. pd.read_csv)\n",
    "from tqdm import tqdm\n",
    "\n",
    "import os\n",
    "for dirname, _, filenames in os.walk('/kaggle/input'):\n",
    "    for filename in filenames:\n",
    "        print(os.path.join(dirname, filename))"
   ]
  },
  {
   "cell_type": "code",
   "execution_count": 2,
   "id": "5e44f021",
   "metadata": {
    "execution": {
     "iopub.execute_input": "2023-11-20T00:37:37.366484Z",
     "iopub.status.busy": "2023-11-20T00:37:37.365932Z",
     "iopub.status.idle": "2023-11-20T00:37:38.454705Z",
     "shell.execute_reply": "2023-11-20T00:37:38.453404Z"
    },
    "papermill": {
     "duration": 1.098042,
     "end_time": "2023-11-20T00:37:38.457512",
     "exception": false,
     "start_time": "2023-11-20T00:37:37.359470",
     "status": "completed"
    },
    "tags": []
   },
   "outputs": [],
   "source": [
    "data = pd.read_csv(\"/kaggle/input/kmeans/data.csv\")\n",
    "labels = pd.read_csv(\"/kaggle/input/kmeans/label.csv\")"
   ]
  },
  {
   "cell_type": "code",
   "execution_count": 3,
   "id": "194b83fb",
   "metadata": {
    "execution": {
     "iopub.execute_input": "2023-11-20T00:37:38.470315Z",
     "iopub.status.busy": "2023-11-20T00:37:38.469900Z",
     "iopub.status.idle": "2023-11-20T00:42:49.512137Z",
     "shell.execute_reply": "2023-11-20T00:42:49.510866Z"
    },
    "papermill": {
     "duration": 311.052102,
     "end_time": "2023-11-20T00:42:49.514867",
     "exception": false,
     "start_time": "2023-11-20T00:37:38.462765",
     "status": "completed"
    },
    "tags": []
   },
   "outputs": [
    {
     "name": "stderr",
     "output_type": "stream",
     "text": [
      " 59%|█████▉    | 59/100 [02:08<01:28,  2.17s/it]\n"
     ]
    },
    {
     "name": "stdout",
     "output_type": "stream",
     "text": [
      "SSE of Euclidean K-means: 25323469145.0\n"
     ]
    },
    {
     "name": "stderr",
     "output_type": "stream",
     "text": [
      " 34%|███▍      | 34/100 [01:45<03:24,  3.10s/it]\n"
     ]
    },
    {
     "name": "stdout",
     "output_type": "stream",
     "text": [
      "SSE of Cosine K-means: 25634288495.0\n"
     ]
    },
    {
     "name": "stderr",
     "output_type": "stream",
     "text": [
      " 30%|███       | 30/100 [01:16<02:59,  2.57s/it]\n"
     ]
    },
    {
     "name": "stdout",
     "output_type": "stream",
     "text": [
      "SSE of Jaccard K-means: 25517095430.0\n"
     ]
    }
   ],
   "source": [
    "# Function to compute Euclidean distance\n",
    "def euclidean_distance(a, b):\n",
    "#     return np.linalg.norm(a - b)\n",
    "    return np.sqrt(np.sum((a - b) ** 2))\n",
    "\n",
    "# Function to compute Cosine similarity\n",
    "def cosine_similarity(a, b):\n",
    "    dot_product = np.dot(a, b)\n",
    "    norm_a = np.linalg.norm(a)\n",
    "    norm_b = np.linalg.norm(b)\n",
    "    return 1 - (dot_product / (norm_a * norm_b))\n",
    "\n",
    "# Function to compute Generalized Jaccard similarity\n",
    "def generalized_jaccard_similarity(a, b):\n",
    "    intersection = np.sum(np.minimum(a, b))\n",
    "    union = np.sum(np.maximum(a, b))\n",
    "    return 1 - (intersection / union)\n",
    "\n",
    "# Function to initialize centroids randomly\n",
    "def initialize_centroids(data, k):\n",
    "    np.random.seed(42)  # Set seed for reproducibility\n",
    "    indices = np.random.choice(data.shape[0], k, replace=False)\n",
    "    return data[indices]\n",
    "\n",
    "# Function to perform K-means clustering\n",
    "def kmeans_clustering(data, k, distance_metric, max_iters=100):\n",
    "    centroids = initialize_centroids(data, k)\n",
    "    n_samples = data.shape[0]\n",
    "    n_features = data.shape[1]\n",
    "    clusters = np.zeros(n_samples)\n",
    "    \n",
    "    for _ in tqdm(range(max_iters)):\n",
    "        for i in range(n_samples):\n",
    "            distances = [distance_metric(data[i], centroid) for centroid in centroids]\n",
    "            cluster_assignment = np.argmin(distances)\n",
    "            clusters[i] = cluster_assignment\n",
    "        \n",
    "        prev_centroids = centroids.copy()\n",
    "        for cluster in range(k):\n",
    "            cluster_points = [data[i] for i in range(n_samples) if clusters[i] == cluster]\n",
    "            if len(cluster_points) > 0:\n",
    "                centroids[cluster] = np.mean(cluster_points, axis=0)\n",
    "        \n",
    "        if np.all(prev_centroids == centroids):\n",
    "            break\n",
    "    \n",
    "    return clusters, centroids\n",
    "\n",
    "# Function to calculate Sum of Squared Errors (SSE)\n",
    "def calculate_sse(data, clusters, centroids, distance_metric):\n",
    "    sse = 0\n",
    "    for i, centroid in enumerate(centroids):\n",
    "        cluster_points = data[clusters == i]\n",
    "        for point in cluster_points:\n",
    "            sse += euclidean_distance(point, centroid) ** 2\n",
    "    return sse\n",
    "\n",
    "# Assume 'data' contains your dataset with 784 features\n",
    "\n",
    "# Run K-means with Euclidean distance\n",
    "k = 10\n",
    "euclidean_clusters, euclidean_centroids = kmeans_clustering(data.values, k, euclidean_distance)\n",
    "euclidean_sse = calculate_sse(data.values, euclidean_clusters, euclidean_centroids, euclidean_distance)\n",
    "print(\"SSE of Euclidean K-means:\", euclidean_sse)\n",
    "\n",
    "# Run K-means with Cosine similarity\n",
    "cosine_clusters, cosine_centroids = kmeans_clustering(data.values, k, cosine_similarity)\n",
    "cosine_sse = calculate_sse(data.values, cosine_clusters, cosine_centroids, cosine_similarity)\n",
    "print(\"SSE of Cosine K-means:\", cosine_sse)\n",
    "\n",
    "# Run K-means with Generalized Jaccard similarity\n",
    "jaccard_clusters, jaccard_centroids = kmeans_clustering(data.values, k, generalized_jaccard_similarity)\n",
    "jaccard_sse = calculate_sse(data.values, jaccard_clusters, jaccard_centroids, generalized_jaccard_similarity)\n",
    "print(\"SSE of Jaccard K-means:\", jaccard_sse)\n"
   ]
  },
  {
   "cell_type": "code",
   "execution_count": 4,
   "id": "d5be4f92",
   "metadata": {
    "execution": {
     "iopub.execute_input": "2023-11-20T00:42:49.552145Z",
     "iopub.status.busy": "2023-11-20T00:42:49.551610Z",
     "iopub.status.idle": "2023-11-20T00:42:50.785834Z",
     "shell.execute_reply": "2023-11-20T00:42:50.784604Z"
    },
    "papermill": {
     "duration": 1.256004,
     "end_time": "2023-11-20T00:42:50.788516",
     "exception": false,
     "start_time": "2023-11-20T00:42:49.532512",
     "status": "completed"
    },
    "tags": []
   },
   "outputs": [
    {
     "name": "stdout",
     "output_type": "stream",
     "text": [
      "Accuracy of Euclidean K-means: 60.31603160316031\n",
      "Accuracy of Cosine K-means: 64.24642464246425\n",
      "Accuracy of Jaccard K-means: 62.81628162816282\n"
     ]
    }
   ],
   "source": [
    "from scipy import stats\n",
    "\n",
    "# Function to label clusters using majority vote\n",
    "def label_clusters(clusters, true_labels, k):\n",
    "    cluster_labels = []\n",
    "    for i in range(k):\n",
    "        cluster_indices = np.where(clusters == i)[0]  # Get indices of data points in cluster i\n",
    "        cluster_points = true_labels[cluster_indices]\n",
    "        mode, _ = stats.mode(cluster_points)\n",
    "        cluster_labels.append(mode)\n",
    "    return cluster_labels\n",
    "\n",
    "# Function to compute accuracy\n",
    "def compute_accuracy(predicted_labels, true_labels):\n",
    "    correct = 0\n",
    "    for pred_label, true_label in zip(predicted_labels, true_labels):\n",
    "        if pred_label == true_label:\n",
    "            correct += 1\n",
    "    return correct / len(true_labels) * 100\n",
    "\n",
    "# Label clusters for Euclidean-K-means\n",
    "euclidean_cluster_labels = label_clusters(euclidean_clusters, labels.values.flatten(), k)\n",
    "euclidean_predicted_labels = [euclidean_cluster_labels[int(cluster)] for cluster in euclidean_clusters]\n",
    "euclidean_accuracy = compute_accuracy(euclidean_predicted_labels, labels.values.flatten())\n",
    "print(\"Accuracy of Euclidean K-means:\", euclidean_accuracy)\n",
    "\n",
    "# Label clusters for Cosine-K-means\n",
    "cosine_cluster_labels = label_clusters(cosine_clusters, labels.values.flatten(), k)\n",
    "cosine_predicted_labels = [cosine_cluster_labels[int(cluster)] for cluster in cosine_clusters]\n",
    "cosine_accuracy = compute_accuracy(cosine_predicted_labels, labels.values.flatten())\n",
    "print(\"Accuracy of Cosine K-means:\", cosine_accuracy)\n",
    "\n",
    "# Label clusters for Jaccard-K-means\n",
    "jaccard_cluster_labels = label_clusters(jaccard_clusters, labels.values.flatten(), k)\n",
    "jaccard_predicted_labels = [jaccard_cluster_labels[int(cluster)] for cluster in jaccard_clusters]\n",
    "jaccard_accuracy = compute_accuracy(jaccard_predicted_labels, labels.values.flatten())\n",
    "print(\"Accuracy of Jaccard K-means:\", jaccard_accuracy)\n"
   ]
  },
  {
   "cell_type": "code",
   "execution_count": 5,
   "id": "add898a7",
   "metadata": {
    "execution": {
     "iopub.execute_input": "2023-11-20T00:42:50.826524Z",
     "iopub.status.busy": "2023-11-20T00:42:50.825440Z",
     "iopub.status.idle": "2023-11-20T00:47:04.640758Z",
     "shell.execute_reply": "2023-11-20T00:47:04.639441Z"
    },
    "papermill": {
     "duration": 253.839095,
     "end_time": "2023-11-20T00:47:04.645386",
     "exception": false,
     "start_time": "2023-11-20T00:42:50.806291",
     "status": "completed"
    },
    "tags": []
   },
   "outputs": [
    {
     "name": "stderr",
     "output_type": "stream",
     "text": [
      " 54%|█████▍    | 54/100 [02:11<01:52,  2.44s/it]\n",
      " 14%|█▍        | 14/100 [00:48<04:58,  3.47s/it]\n",
      " 26%|██▌       | 26/100 [01:13<03:28,  2.82s/it]"
     ]
    },
    {
     "name": "stdout",
     "output_type": "stream",
     "text": [
      "Number of iterations for Euclidean K-means convergence: 55\n",
      "Number of iterations for Cosine K-means convergence: 15\n",
      "Number of iterations for Jaccard K-means convergence: 27\n"
     ]
    },
    {
     "name": "stderr",
     "output_type": "stream",
     "text": [
      "\n"
     ]
    }
   ],
   "source": [
    "from tqdm import tqdm\n",
    "\n",
    "# Function to perform K-means clustering with stopping criteria\n",
    "def kmeans_clustering_stop(data, k, distance_metric, max_iters=100, stop_criteria=500):\n",
    "    centroids = initialize_centroids(data, k)\n",
    "    n_samples = data.shape[0]\n",
    "    n_features = data.shape[1]\n",
    "    clusters = np.zeros(n_samples)\n",
    "    sse_values = []  # To store SSE values over iterations\n",
    "    \n",
    "    for iteration in tqdm(range(max_iters)):\n",
    "        prev_centroids = centroids.copy()\n",
    "        \n",
    "        # Assign data points to clusters\n",
    "        for i in range(n_samples):\n",
    "            distances = [distance_metric(data[i], centroid) for centroid in centroids]\n",
    "            cluster_assignment = np.argmin(distances)\n",
    "            clusters[i] = cluster_assignment\n",
    "        \n",
    "        # Update centroids\n",
    "        for cluster in range(k):\n",
    "            cluster_points = [data[i] for i in range(n_samples) if clusters[i] == cluster]\n",
    "            if len(cluster_points) > 0:\n",
    "                centroids[cluster] = np.mean(cluster_points, axis=0)\n",
    "        \n",
    "        # Calculate SSE and check convergence criteria\n",
    "        sse = calculate_sse(data, clusters, centroids, distance_metric)\n",
    "        sse_values.append(sse)\n",
    "        \n",
    "#         print(sse_values)\n",
    "        \n",
    "        if (np.all(prev_centroids == centroids)) or (iteration > 2 and sse_values[-2] < sse_values[-1] and iteration > 0) or (iteration >= stop_criteria):\n",
    "            break\n",
    "    \n",
    "    return clusters, centroids, sse_values\n",
    "\n",
    "# Run K-means with Euclidean distance and stop criteria\n",
    "euclidean_clusters, euclidean_centroids, euclidean_sse_values = kmeans_clustering_stop(data.values, k, euclidean_distance)\n",
    "\n",
    "# Run K-means with Cosine similarity and stop criteria\n",
    "cosine_clusters, cosine_centroids, cosine_sse_values = kmeans_clustering_stop(data.values, k, cosine_similarity)\n",
    "\n",
    "# Run K-means with Generalized Jaccard similarity and stop criteria\n",
    "jaccard_clusters, jaccard_centroids, jaccard_sse_values = kmeans_clustering_stop(data.values, k, generalized_jaccard_similarity)\n",
    "\n",
    "# Determine the number of iterations for convergence\n",
    "euclidean_iterations = len(euclidean_sse_values)\n",
    "cosine_iterations = len(cosine_sse_values)\n",
    "jaccard_iterations = len(jaccard_sse_values)\n",
    "\n",
    "print(\"Number of iterations for Euclidean K-means convergence:\", euclidean_iterations)\n",
    "print(\"Number of iterations for Cosine K-means convergence:\", cosine_iterations)\n",
    "print(\"Number of iterations for Jaccard K-means convergence:\", jaccard_iterations)\n"
   ]
  },
  {
   "cell_type": "code",
   "execution_count": 6,
   "id": "d1bef2aa",
   "metadata": {
    "execution": {
     "iopub.execute_input": "2023-11-20T00:47:04.702445Z",
     "iopub.status.busy": "2023-11-20T00:47:04.701907Z",
     "iopub.status.idle": "2023-11-20T00:47:04.725646Z",
     "shell.execute_reply": "2023-11-20T00:47:04.724485Z"
    },
    "papermill": {
     "duration": 0.055108,
     "end_time": "2023-11-20T00:47:04.728007",
     "exception": false,
     "start_time": "2023-11-20T00:47:04.672899",
     "status": "completed"
    },
    "tags": []
   },
   "outputs": [],
   "source": [
    "### SEPARATE FUNCTIONS FOR EACH STOP CRITERIA\n",
    "\n",
    "# Function to perform K-means clustering with stopping criteria\n",
    "def kmeans_clustering_stopPrevCentroids(data, k, distance_metric, max_iters=100, stop_criteria=500):\n",
    "    centroids = initialize_centroids(data, k)\n",
    "    n_samples = data.shape[0]\n",
    "    n_features = data.shape[1]\n",
    "    clusters = np.zeros(n_samples)\n",
    "    sse_values = []  # To store SSE values over iterations\n",
    "    \n",
    "    for iteration in tqdm(range(max_iters)):\n",
    "        prev_centroids = centroids.copy()\n",
    "        \n",
    "        # Assign data points to clusters\n",
    "        for i in range(n_samples):\n",
    "            distances = [distance_metric(data[i], centroid) for centroid in centroids]\n",
    "            cluster_assignment = np.argmin(distances)\n",
    "            clusters[i] = cluster_assignment\n",
    "        \n",
    "        # Update centroids\n",
    "        for cluster in range(k):\n",
    "            cluster_points = [data[i] for i in range(n_samples) if clusters[i] == cluster]\n",
    "            if len(cluster_points) > 0:\n",
    "                centroids[cluster] = np.mean(cluster_points, axis=0)\n",
    "        \n",
    "        # Calculate SSE and check convergence criteria\n",
    "        sse = calculate_sse(data, clusters, centroids, distance_metric)\n",
    "        sse_values.append(sse)\n",
    "        \n",
    "#         print(sse_values)\n",
    "        \n",
    "        if (np.all(prev_centroids == centroids)):\n",
    "            break\n",
    "    \n",
    "    return clusters, centroids, sse_values\n",
    "\n",
    "\n",
    "def kmeans_clustering_stopCriteria(data, k, distance_metric, max_iters=100, stop_criteria=500):\n",
    "    centroids = initialize_centroids(data, k)\n",
    "    n_samples = data.shape[0]\n",
    "    n_features = data.shape[1]\n",
    "    clusters = np.zeros(n_samples)\n",
    "    sse_values = []  # To store SSE values over iterations\n",
    "    \n",
    "    for iteration in tqdm(range(max_iters)):\n",
    "        prev_centroids = centroids.copy()\n",
    "        \n",
    "        # Assign data points to clusters\n",
    "        for i in range(n_samples):\n",
    "            distances = [distance_metric(data[i], centroid) for centroid in centroids]\n",
    "            cluster_assignment = np.argmin(distances)\n",
    "            clusters[i] = cluster_assignment\n",
    "        \n",
    "        # Update centroids\n",
    "        for cluster in range(k):\n",
    "            cluster_points = [data[i] for i in range(n_samples) if clusters[i] == cluster]\n",
    "            if len(cluster_points) > 0:\n",
    "                centroids[cluster] = np.mean(cluster_points, axis=0)\n",
    "        \n",
    "        # Calculate SSE and check convergence criteria\n",
    "        sse = calculate_sse(data, clusters, centroids, distance_metric)\n",
    "        sse_values.append(sse)\n",
    "        \n",
    "#         print(sse_values)\n",
    "        \n",
    "        if (iteration >= stop_criteria):\n",
    "            break\n",
    "    \n",
    "    return clusters, centroids, sse_values\n",
    "\n",
    "\n",
    "def kmeans_clustering_stopSSE(data, k, distance_metric, max_iters=100, stop_criteria=500):\n",
    "    centroids = initialize_centroids(data, k)\n",
    "    n_samples = data.shape[0]\n",
    "    n_features = data.shape[1]\n",
    "    clusters = np.zeros(n_samples)\n",
    "    sse_values = []  # To store SSE values over iterations\n",
    "    \n",
    "    for iteration in tqdm(range(max_iters)):\n",
    "        prev_centroids = centroids.copy()\n",
    "        \n",
    "        # Assign data points to clusters\n",
    "        for i in range(n_samples):\n",
    "            distances = [distance_metric(data[i], centroid) for centroid in centroids]\n",
    "            cluster_assignment = np.argmin(distances)\n",
    "            clusters[i] = cluster_assignment\n",
    "        \n",
    "        # Update centroids\n",
    "        for cluster in range(k):\n",
    "            cluster_points = [data[i] for i in range(n_samples) if clusters[i] == cluster]\n",
    "            if len(cluster_points) > 0:\n",
    "                centroids[cluster] = np.mean(cluster_points, axis=0)\n",
    "        \n",
    "        # Calculate SSE and check convergence criteria\n",
    "        sse = calculate_sse(data, clusters, centroids, distance_metric)\n",
    "        sse_values.append(sse)\n",
    "        \n",
    "#         print(sse_values)\n",
    "        \n",
    "        if (iteration > 2 and sse_values[-2] < sse_values[-1]):\n",
    "            break\n",
    "    \n",
    "    return clusters, centroids, sse_values"
   ]
  },
  {
   "cell_type": "code",
   "execution_count": 7,
   "id": "2c6e6623",
   "metadata": {
    "execution": {
     "iopub.execute_input": "2023-11-20T00:47:04.787031Z",
     "iopub.status.busy": "2023-11-20T00:47:04.786355Z",
     "iopub.status.idle": "2023-11-20T00:52:44.188660Z",
     "shell.execute_reply": "2023-11-20T00:52:44.187319Z"
    },
    "papermill": {
     "duration": 339.437333,
     "end_time": "2023-11-20T00:52:44.193345",
     "exception": false,
     "start_time": "2023-11-20T00:47:04.756012",
     "status": "completed"
    },
    "tags": []
   },
   "outputs": [
    {
     "name": "stderr",
     "output_type": "stream",
     "text": [
      " 59%|█████▉    | 59/100 [02:22<01:39,  2.42s/it]\n",
      " 34%|███▍      | 34/100 [01:53<03:40,  3.34s/it]\n",
      " 30%|███       | 30/100 [01:23<03:14,  2.77s/it]"
     ]
    },
    {
     "name": "stdout",
     "output_type": "stream",
     "text": [
      "Number of iterations for Euclidean K-means convergence - prev centroids): 60\n",
      "Number of iterations for Cosine K-means convergence - prev centroids: 35\n",
      "Number of iterations for Jaccard K-means convergence - prev centroids: 31\n"
     ]
    },
    {
     "name": "stderr",
     "output_type": "stream",
     "text": [
      "\n"
     ]
    }
   ],
   "source": [
    "euclidean_clusters, euclidean_centroids, euclidean_sse_values = kmeans_clustering_stopPrevCentroids(data.values, k, euclidean_distance)\n",
    "\n",
    "# Run K-means with Cosine similarity and stop criteria\n",
    "cosine_clusters, cosine_centroids, cosine_sse_values = kmeans_clustering_stopPrevCentroids(data.values, k, cosine_similarity)\n",
    "\n",
    "# Run K-means with Generalized Jaccard similarity and stop criteria\n",
    "jaccard_clusters, jaccard_centroids, jaccard_sse_values = kmeans_clustering_stopPrevCentroids(data.values, k, generalized_jaccard_similarity)\n",
    "\n",
    "# Determine the number of iterations for convergence\n",
    "euclidean_iterations = len(euclidean_sse_values)\n",
    "cosine_iterations = len(cosine_sse_values)\n",
    "jaccard_iterations = len(jaccard_sse_values)\n",
    "\n",
    "print(\"Number of iterations for Euclidean K-means convergence - prev centroids):\", euclidean_iterations)\n",
    "print(\"Number of iterations for Cosine K-means convergence - prev centroids:\", cosine_iterations)\n",
    "print(\"Number of iterations for Jaccard K-means convergence - prev centroids:\", jaccard_iterations)\n"
   ]
  },
  {
   "cell_type": "code",
   "execution_count": 8,
   "id": "39fc6d28",
   "metadata": {
    "execution": {
     "iopub.execute_input": "2023-11-20T00:52:44.275852Z",
     "iopub.status.busy": "2023-11-20T00:52:44.275458Z",
     "iopub.status.idle": "2023-11-20T01:06:39.474395Z",
     "shell.execute_reply": "2023-11-20T01:06:39.472834Z"
    },
    "papermill": {
     "duration": 835.244065,
     "end_time": "2023-11-20T01:06:39.477484",
     "exception": false,
     "start_time": "2023-11-20T00:52:44.233419",
     "status": "completed"
    },
    "tags": []
   },
   "outputs": [
    {
     "name": "stderr",
     "output_type": "stream",
     "text": [
      "100%|██████████| 100/100 [03:58<00:00,  2.38s/it]\n",
      "100%|██████████| 100/100 [05:24<00:00,  3.25s/it]\n",
      "100%|██████████| 100/100 [04:32<00:00,  2.73s/it]"
     ]
    },
    {
     "name": "stdout",
     "output_type": "stream",
     "text": [
      "Number of iterations for Euclidean K-means convergence - stop criteria): 100\n",
      "Number of iterations for Cosine K-means convergence - stop criteria: 100\n",
      "Number of iterations for Jaccard K-means convergence - stop criteria: 100\n"
     ]
    },
    {
     "name": "stderr",
     "output_type": "stream",
     "text": [
      "\n"
     ]
    }
   ],
   "source": [
    "euclidean_clusters, euclidean_centroids, euclidean_sse_values = kmeans_clustering_stopCriteria(data.values, k, euclidean_distance)\n",
    "\n",
    "# Run K-means with Cosine similarity and stop criteria\n",
    "cosine_clusters, cosine_centroids, cosine_sse_values = kmeans_clustering_stopCriteria(data.values, k, cosine_similarity)\n",
    "\n",
    "# Run K-means with Generalized Jaccard similarity and stop criteria\n",
    "jaccard_clusters, jaccard_centroids, jaccard_sse_values = kmeans_clustering_stopCriteria(data.values, k, generalized_jaccard_similarity)\n",
    "\n",
    "# Determine the number of iterations for convergence\n",
    "euclidean_iterations = len(euclidean_sse_values)\n",
    "cosine_iterations = len(cosine_sse_values)\n",
    "jaccard_iterations = len(jaccard_sse_values)\n",
    "\n",
    "print(\"Number of iterations for Euclidean K-means convergence - stop criteria):\", euclidean_iterations)\n",
    "print(\"Number of iterations for Cosine K-means convergence - stop criteria:\", cosine_iterations)\n",
    "print(\"Number of iterations for Jaccard K-means convergence - stop criteria:\", jaccard_iterations)\n"
   ]
  },
  {
   "cell_type": "code",
   "execution_count": 9,
   "id": "1f2ca90c",
   "metadata": {
    "execution": {
     "iopub.execute_input": "2023-11-20T01:06:39.622867Z",
     "iopub.status.busy": "2023-11-20T01:06:39.622445Z",
     "iopub.status.idle": "2023-11-20T01:10:51.863060Z",
     "shell.execute_reply": "2023-11-20T01:10:51.861926Z"
    },
    "papermill": {
     "duration": 252.315202,
     "end_time": "2023-11-20T01:10:51.865736",
     "exception": false,
     "start_time": "2023-11-20T01:06:39.550534",
     "status": "completed"
    },
    "tags": []
   },
   "outputs": [
    {
     "name": "stderr",
     "output_type": "stream",
     "text": [
      " 54%|█████▍    | 54/100 [02:10<01:51,  2.41s/it]\n",
      " 14%|█▍        | 14/100 [00:48<04:57,  3.46s/it]\n",
      " 26%|██▌       | 26/100 [01:13<03:28,  2.82s/it]"
     ]
    },
    {
     "name": "stdout",
     "output_type": "stream",
     "text": [
      "Number of iterations for Euclidean K-means convergence - stop sse): 55\n",
      "Number of iterations for Cosine K-means convergence - stop sse: 15\n",
      "Number of iterations for Jaccard K-means convergence - stop sse: 27\n"
     ]
    },
    {
     "name": "stderr",
     "output_type": "stream",
     "text": [
      "\n"
     ]
    }
   ],
   "source": [
    "euclidean_clusters, euclidean_centroids, euclidean_sse_values = kmeans_clustering_stopSSE(data.values, k, euclidean_distance)\n",
    "\n",
    "# Run K-means with Cosine similarity and stop criteria\n",
    "cosine_clusters, cosine_centroids, cosine_sse_values = kmeans_clustering_stopSSE(data.values, k, cosine_similarity)\n",
    "\n",
    "# Run K-means with Generalized Jaccard similarity and stop criteria\n",
    "jaccard_clusters, jaccard_centroids, jaccard_sse_values = kmeans_clustering_stopSSE(data.values, k, generalized_jaccard_similarity)\n",
    "\n",
    "# Determine the number of iterations for convergence\n",
    "euclidean_iterations = len(euclidean_sse_values)\n",
    "cosine_iterations = len(cosine_sse_values)\n",
    "jaccard_iterations = len(jaccard_sse_values)\n",
    "\n",
    "print(\"Number of iterations for Euclidean K-means convergence - stop sse):\", euclidean_iterations)\n",
    "print(\"Number of iterations for Cosine K-means convergence - stop sse:\", cosine_iterations)\n",
    "print(\"Number of iterations for Jaccard K-means convergence - stop sse:\", jaccard_iterations)"
   ]
  },
  {
   "cell_type": "code",
   "execution_count": null,
   "id": "dd47d599",
   "metadata": {
    "papermill": {
     "duration": 0.080855,
     "end_time": "2023-11-20T01:10:52.027675",
     "exception": false,
     "start_time": "2023-11-20T01:10:51.946820",
     "status": "completed"
    },
    "tags": []
   },
   "outputs": [],
   "source": []
  },
  {
   "cell_type": "code",
   "execution_count": null,
   "id": "f5ece085",
   "metadata": {
    "papermill": {
     "duration": 0.080107,
     "end_time": "2023-11-20T01:10:52.194952",
     "exception": false,
     "start_time": "2023-11-20T01:10:52.114845",
     "status": "completed"
    },
    "tags": []
   },
   "outputs": [],
   "source": []
  }
 ],
 "metadata": {
  "kaggle": {
   "accelerator": "none",
   "dataSources": [
    {
     "datasetId": 4026542,
     "sourceId": 7004067,
     "sourceType": "datasetVersion"
    },
    {
     "datasetId": 4027211,
     "sourceId": 7005128,
     "sourceType": "datasetVersion"
    }
   ],
   "dockerImageVersionId": 30587,
   "isGpuEnabled": false,
   "isInternetEnabled": false,
   "language": "python",
   "sourceType": "notebook"
  },
  "kernelspec": {
   "display_name": "Python 3",
   "language": "python",
   "name": "python3"
  },
  "language_info": {
   "codemirror_mode": {
    "name": "ipython",
    "version": 3
   },
   "file_extension": ".py",
   "mimetype": "text/x-python",
   "name": "python",
   "nbconvert_exporter": "python",
   "pygments_lexer": "ipython3",
   "version": "3.10.12"
  },
  "papermill": {
   "default_parameters": {},
   "duration": 1999.711093,
   "end_time": "2023-11-20T01:10:52.906140",
   "environment_variables": {},
   "exception": null,
   "input_path": "__notebook__.ipynb",
   "output_path": "__notebook__.ipynb",
   "parameters": {},
   "start_time": "2023-11-20T00:37:33.195047",
   "version": "2.4.0"
  }
 },
 "nbformat": 4,
 "nbformat_minor": 5
}
